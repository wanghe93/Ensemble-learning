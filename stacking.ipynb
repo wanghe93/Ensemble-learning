{
 "cells": [
  {
   "cell_type": "code",
   "execution_count": 38,
   "metadata": {},
   "outputs": [],
   "source": [
    "import matplotlib.pyplot as plt\n",
    "from sklearn.pipeline import Pipeline\n",
    "from sklearn.model_selection import GridSearchCV\n",
    "from sklearn.feature_selection import SelectFromModel\n",
    "from sklearn.ensemble import AdaBoostClassifier\n",
    "from sklearn.ensemble import GradientBoostingClassifier\n",
    "from sklearn.linear_model import LogisticRegression\n",
    "from sklearn.neural_network import MLPClassifier\n",
    "from sklearn.ensemble import RandomForestClassifier\n",
    "from sklearn import svm\n",
    "import pandas as pd\n",
    "import numpy as np\n",
    "import os\n",
    "import re\n",
    "from sklearn.externals import joblib\n",
    "from sklearn.model_selection import train_test_split\n",
    "from sklearn.base import BaseEstimator, TransformerMixin, RegressorMixin, clone\n",
    "from sklearn.model_selection import KFold, cross_val_score, train_test_split"
   ]
  },
  {
   "cell_type": "code",
   "execution_count": 39,
   "metadata": {},
   "outputs": [],
   "source": [
    "Data = np.loadtxt('Data.txt')"
   ]
  },
  {
   "cell_type": "code",
   "execution_count": 40,
   "metadata": {},
   "outputs": [
    {
     "data": {
      "text/plain": [
       "(36308, 12)"
      ]
     },
     "execution_count": 40,
     "metadata": {},
     "output_type": "execute_result"
    }
   ],
   "source": [
    "X = Data[:,:-1]\n",
    "X.shape"
   ]
  },
  {
   "cell_type": "code",
   "execution_count": 41,
   "metadata": {},
   "outputs": [
    {
     "data": {
      "text/plain": [
       "(36308,)"
      ]
     },
     "execution_count": 41,
     "metadata": {},
     "output_type": "execute_result"
    }
   ],
   "source": [
    "Y = Data[:,-1]\n",
    "Y.shape"
   ]
  },
  {
   "cell_type": "code",
   "execution_count": 42,
   "metadata": {},
   "outputs": [],
   "source": [
    "X_train, X_test, Y_train, Y_test = train_test_split(X, Y, test_size=0.3, random_state=9, stratify=Y)"
   ]
  },
  {
   "cell_type": "code",
   "execution_count": 43,
   "metadata": {},
   "outputs": [
    {
     "data": {
      "image/png": "[encoded data removed]",
      "text/plain": [
       "<matplotlib.figure.Figure at 0xa440d898>"
      ]
     },
     "metadata": {},
     "output_type": "display_data"
    }
   ],
   "source": [
    "train_1 = (Y_train == 1).sum()\n",
    "train_0 = (Y_train == 0).sum()\n",
    "test_1 = (Y_test == 1).sum()\n",
    "test_0 = (Y_test == 0).sum()\n",
    "c = pd.DataFrame({'0':[train_0,test_0],'1':[train_1,test_1]},index = ['train', 'test'])\n",
    "c.plot(kind = 'bar')\n",
    "plt.show()"
   ]
  },
  {
   "cell_type": "code",
   "execution_count": null,
   "metadata": {},
   "outputs": [],
   "source": []
  },
  {
   "cell_type": "code",
   "execution_count": null,
   "metadata": {},
   "outputs": [],
   "source": []
  },
  {
   "cell_type": "code",
   "execution_count": null,
   "metadata": {},
   "outputs": [],
   "source": []
  },
  {
   "cell_type": "code",
   "execution_count": 44,
   "metadata": {},
   "outputs": [],
   "source": [
    "lr = LogisticRegression(C = 1000, tol = 1e-5, class_weight={0:1,1:4}, solver= 'saga', max_iter = 1000)"
   ]
  },
  {
   "cell_type": "code",
   "execution_count": 45,
   "metadata": {},
   "outputs": [],
   "source": [
    "mlp = MLPClassifier(alpha=0.01, hidden_layer_sizes=(150, 60), max_iter=2000, random_state=9)"
   ]
  },
  {
   "cell_type": "code",
   "execution_count": 46,
   "metadata": {},
   "outputs": [],
   "source": [
    "rf = RandomForestClassifier(n_estimators = 3000, oob_score = True, n_jobs = 3, random_state=9, class_weight='balanced',\n",
    "                           max_depth=15, max_features=4, min_samples_split=80)"
   ]
  },
  {
   "cell_type": "code",
   "execution_count": 47,
   "metadata": {},
   "outputs": [],
   "source": [
    "svc1 = svm.SVC(probability = True, class_weight = 'balanced', C=10000.0, degree=2, kernel='poly')"
   ]
  },
  {
   "cell_type": "code",
   "execution_count": 48,
   "metadata": {},
   "outputs": [],
   "source": [
    "svc2 = svm.SVC(probability = True, class_weight = 'balanced', C=10000.0, gamma=0.01, kernel='rbf')"
   ]
  },
  {
   "cell_type": "code",
   "execution_count": 49,
   "metadata": {},
   "outputs": [],
   "source": [
    "abc = AdaBoostClassifier(n_estimators=3000, random_state=9, learning_rate=0.02)"
   ]
  },
  {
   "cell_type": "code",
   "execution_count": 50,
   "metadata": {},
   "outputs": [],
   "source": [
    "gbc = GradientBoostingClassifier(n_estimators = 3000, learning_rate=0.01, max_leaf_nodes=8, subsample=0.7)"
   ]
  },
  {
   "cell_type": "code",
   "execution_count": 51,
   "metadata": {},
   "outputs": [],
   "source": [
    "lr_meta = LogisticRegression(C = 1000, tol = 1e-5, solver= 'saga', max_iter = 1000)"
   ]
  },
  {
   "cell_type": "code",
   "execution_count": null,
   "metadata": {},
   "outputs": [],
   "source": []
  },
  {
   "cell_type": "code",
   "execution_count": 52,
   "metadata": {},
   "outputs": [],
   "source": [
    "class StackingAveragedModels(BaseEstimator, RegressorMixin, TransformerMixin):\n",
    "    def __init__(self, base_models, meta_model, n_folds=3):\n",
    "        self.base_models = base_models\n",
    "        self.meta_model = meta_model\n",
    "        self.n_folds = n_folds\n",
    "   \n",
    "    # We again fit the data on clones of the original models\n",
    "    def fit(self, X, y):\n",
    "        self.base_models_ = [list() for x in self.base_models]\n",
    "        self.meta_model_ = clone(self.meta_model)\n",
    "        kfold = KFold(n_splits=self.n_folds, shuffle=True, random_state=156)\n",
    "        \n",
    "        # Train cloned base models then create out-of-fold predictions\n",
    "        # that are needed to train the cloned meta-model\n",
    "        out_of_fold_predictions = np.zeros((X.shape[0], len(self.base_models)))\n",
    "        for i, model in enumerate(self.base_models):\n",
    "            for train_index, holdout_index in kfold.split(X, y):\n",
    "                instance = clone(model)\n",
    "                self.base_models_[i].append(instance)\n",
    "                instance.fit(X[train_index], y[train_index])\n",
    "                y_pred = instance.predict_proba(X[holdout_index])[:,1]\n",
    "                out_of_fold_predictions[holdout_index, i] = y_pred\n",
    "                \n",
    "        # Now train the cloned  meta-model using the out-of-fold predictions as new feature\n",
    "        self.meta_model_.fit(out_of_fold_predictions, y)\n",
    "        return self\n",
    "   \n",
    "    #Do the predictions of all base models on the test data and use the averaged predictions as \n",
    "    #meta-features for the final prediction which is done by the meta-model\n",
    "    def predict(self, X):\n",
    "        meta_features = np.column_stack([\n",
    "            np.column_stack([model.predict_proba(X)[:,1] for model in base_models]).mean(axis=1)\n",
    "            for base_models in self.base_models_ ])\n",
    "        return self.meta_model_.predict(meta_features)\n",
    "    \n",
    "    def predict_proba(self, X):\n",
    "        meta_features = np.column_stack([\n",
    "            np.column_stack([model.predict_proba(X)[:,1] for model in base_models]).mean(axis=1)\n",
    "            for base_models in self.base_models_ ])\n",
    "        return self.meta_model_.predict_proba(meta_features)"
   ]
  },
  {
   "cell_type": "code",
   "execution_count": 53,
   "metadata": {},
   "outputs": [],
   "source": [
    "stacked_averaged_models = StackingAveragedModels(base_models = (lr, mlp, rf, svc1, svc2, abc, gbc),\n",
    "                                                 meta_model = lr_meta)"
   ]
  },
  {
   "cell_type": "code",
   "execution_count": 54,
   "metadata": {},
   "outputs": [
    {
     "name": "stderr",
     "output_type": "stream",
     "text": [
      "[Parallel(n_jobs=3)]: Done  44 tasks      | elapsed:    9.1s\n",
      "[Parallel(n_jobs=3)]: Done 194 tasks      | elapsed:   36.9s\n",
      "[Parallel(n_jobs=3)]: Done 444 tasks      | elapsed:  1.4min\n",
      "[Parallel(n_jobs=3)]: Done 794 tasks      | elapsed:  2.4min\n",
      "[Parallel(n_jobs=3)]: Done 1244 tasks      | elapsed:  3.7min\n",
      "[Parallel(n_jobs=3)]: Done 1794 tasks      | elapsed:  5.2min\n",
      "[Parallel(n_jobs=3)]: Done 2444 tasks      | elapsed:  6.9min\n",
      "[Parallel(n_jobs=3)]: Done 3000 out of 3000 | elapsed:  8.3min finished\n",
      "[Parallel(n_jobs=3)]: Done  44 tasks      | elapsed:    1.3s\n",
      "[Parallel(n_jobs=3)]: Done 194 tasks      | elapsed:    6.2s\n",
      "[Parallel(n_jobs=3)]: Done 444 tasks      | elapsed:   14.3s\n",
      "[Parallel(n_jobs=3)]: Done 794 tasks      | elapsed:   25.5s\n",
      "[Parallel(n_jobs=3)]: Done 1244 tasks      | elapsed:   40.1s\n",
      "[Parallel(n_jobs=3)]: Done 1794 tasks      | elapsed:   58.0s\n",
      "[Parallel(n_jobs=3)]: Done 2444 tasks      | elapsed:  1.3min\n",
      "[Parallel(n_jobs=3)]: Done 3000 out of 3000 | elapsed:  1.6min finished\n",
      "[Parallel(n_jobs=3)]: Done  44 tasks      | elapsed:    5.8s\n",
      "[Parallel(n_jobs=3)]: Done 194 tasks      | elapsed:   26.1s\n",
      "[Parallel(n_jobs=3)]: Done 444 tasks      | elapsed:   59.0s\n",
      "[Parallel(n_jobs=3)]: Done 794 tasks      | elapsed:  1.8min\n",
      "[Parallel(n_jobs=3)]: Done 1244 tasks      | elapsed:  2.8min\n",
      "[Parallel(n_jobs=3)]: Done 1794 tasks      | elapsed:  4.0min\n",
      "[Parallel(n_jobs=3)]: Done 2444 tasks      | elapsed:  5.4min\n",
      "[Parallel(n_jobs=3)]: Done 3000 out of 3000 | elapsed:  6.6min finished\n",
      "[Parallel(n_jobs=3)]: Done  44 tasks      | elapsed:    1.5s\n",
      "[Parallel(n_jobs=3)]: Done 194 tasks      | elapsed:    6.7s\n",
      "[Parallel(n_jobs=3)]: Done 444 tasks      | elapsed:   14.9s\n",
      "[Parallel(n_jobs=3)]: Done 794 tasks      | elapsed:   26.4s\n",
      "[Parallel(n_jobs=3)]: Done 1244 tasks      | elapsed:   41.0s\n",
      "[Parallel(n_jobs=3)]: Done 1794 tasks      | elapsed:   59.2s\n",
      "[Parallel(n_jobs=3)]: Done 2444 tasks      | elapsed:  1.3min\n",
      "[Parallel(n_jobs=3)]: Done 3000 out of 3000 | elapsed:  1.6min finished\n",
      "[Parallel(n_jobs=3)]: Done  44 tasks      | elapsed:    5.9s\n",
      "[Parallel(n_jobs=3)]: Done 194 tasks      | elapsed:   26.5s\n",
      "[Parallel(n_jobs=3)]: Done 444 tasks      | elapsed:   59.5s\n",
      "[Parallel(n_jobs=3)]: Done 794 tasks      | elapsed:  1.8min\n",
      "[Parallel(n_jobs=3)]: Done 1244 tasks      | elapsed:  2.8min\n",
      "[Parallel(n_jobs=3)]: Done 1794 tasks      | elapsed:  4.1min\n",
      "[Parallel(n_jobs=3)]: Done 2444 tasks      | elapsed:  5.6min\n",
      "[Parallel(n_jobs=3)]: Done 3000 out of 3000 | elapsed:  6.9min finished\n",
      "[Parallel(n_jobs=3)]: Done  44 tasks      | elapsed:    1.4s\n",
      "[Parallel(n_jobs=3)]: Done 194 tasks      | elapsed:    6.4s\n",
      "[Parallel(n_jobs=3)]: Done 444 tasks      | elapsed:   14.6s\n",
      "[Parallel(n_jobs=3)]: Done 794 tasks      | elapsed:   26.2s\n",
      "[Parallel(n_jobs=3)]: Done 1244 tasks      | elapsed:   41.5s\n",
      "[Parallel(n_jobs=3)]: Done 1794 tasks      | elapsed:  1.0min\n",
      "[Parallel(n_jobs=3)]: Done 2444 tasks      | elapsed:  1.4min\n",
      "[Parallel(n_jobs=3)]: Done 3000 out of 3000 | elapsed:  1.7min finished\n",
      "D:\\Anaconda3\\lib\\site-packages\\sklearn\\linear_model\\sag.py:326: ConvergenceWarning: The max_iter was reached which means the coef_ did not converge\n",
      "  \"the coef_ did not converge\", ConvergenceWarning)\n"
     ]
    },
    {
     "data": {
      "text/plain": [
       "StackingAveragedModels(base_models=(LogisticRegression(C=1000, class_weight={0: 1, 1: 4}, dual=False,\n",
       "          fit_intercept=True, intercept_scaling=1, max_iter=1000,\n",
       "          multi_class='ovr', n_jobs=1, penalty='l2', random_state=None,\n",
       "          solver='saga', tol=1e-05, verbose=0, warm_start=False), MLPClassifier(act...       presort='auto', random_state=None, subsample=0.7, verbose=0,\n",
       "              warm_start=False)),\n",
       "            meta_model=LogisticRegression(C=1000, class_weight=None, dual=False, fit_intercept=True,\n",
       "          intercept_scaling=1, max_iter=1000, multi_class='ovr', n_jobs=1,\n",
       "          penalty='l2', random_state=None, solver='saga', tol=1e-05,\n",
       "          verbose=0, warm_start=False),\n",
       "            n_folds=3)"
      ]
     },
     "execution_count": 54,
     "metadata": {},
     "output_type": "execute_result"
    }
   ],
   "source": [
    "stacked_averaged_models.fit(X_train,Y_train)"
   ]
  },
  {
   "cell_type": "code",
   "execution_count": 55,
   "metadata": {},
   "outputs": [
    {
     "data": {
      "text/plain": [
       "['stack.pkl']"
      ]
     },
     "execution_count": 55,
     "metadata": {},
     "output_type": "execute_result"
    }
   ],
   "source": [
    "joblib.dump(stacked_averaged_models, 'stack.pkl')"
   ]
  },
  {
   "cell_type": "code",
   "execution_count": null,
   "metadata": {},
   "outputs": [],
   "source": []
  },
  {
   "cell_type": "code",
   "execution_count": 56,
   "metadata": {},
   "outputs": [],
   "source": [
    "clf = joblib.load( 'stack.pkl')"
   ]
  },
  {
   "cell_type": "code",
   "execution_count": 57,
   "metadata": {},
   "outputs": [],
   "source": [
    "from sklearn.metrics import confusion_matrix"
   ]
  },
  {
   "cell_type": "code",
   "execution_count": 58,
   "metadata": {},
   "outputs": [
    {
     "name": "stderr",
     "output_type": "stream",
     "text": [
      "[Parallel(n_jobs=3)]: Done  44 tasks      | elapsed:    0.4s\n",
      "[Parallel(n_jobs=3)]: Done 194 tasks      | elapsed:    2.2s\n",
      "[Parallel(n_jobs=3)]: Done 444 tasks      | elapsed:    5.8s\n",
      "[Parallel(n_jobs=3)]: Done 794 tasks      | elapsed:   10.2s\n",
      "[Parallel(n_jobs=3)]: Done 1244 tasks      | elapsed:   16.2s\n",
      "[Parallel(n_jobs=3)]: Done 1794 tasks      | elapsed:   23.0s\n",
      "[Parallel(n_jobs=3)]: Done 2444 tasks      | elapsed:   31.0s\n",
      "[Parallel(n_jobs=3)]: Done 3000 out of 3000 | elapsed:   38.1s finished\n",
      "[Parallel(n_jobs=3)]: Done  44 tasks      | elapsed:    0.5s\n",
      "[Parallel(n_jobs=3)]: Done 194 tasks      | elapsed:    2.4s\n",
      "[Parallel(n_jobs=3)]: Done 444 tasks      | elapsed:    5.5s\n",
      "[Parallel(n_jobs=3)]: Done 794 tasks      | elapsed:    9.9s\n",
      "[Parallel(n_jobs=3)]: Done 1244 tasks      | elapsed:   15.4s\n",
      "[Parallel(n_jobs=3)]: Done 1794 tasks      | elapsed:   22.2s\n",
      "[Parallel(n_jobs=3)]: Done 2444 tasks      | elapsed:   30.2s\n",
      "[Parallel(n_jobs=3)]: Done 3000 out of 3000 | elapsed:   37.0s finished\n",
      "[Parallel(n_jobs=3)]: Done  44 tasks      | elapsed:    0.4s\n",
      "[Parallel(n_jobs=3)]: Done 194 tasks      | elapsed:    2.3s\n",
      "[Parallel(n_jobs=3)]: Done 444 tasks      | elapsed:    5.2s\n",
      "[Parallel(n_jobs=3)]: Done 794 tasks      | elapsed:    9.7s\n",
      "[Parallel(n_jobs=3)]: Done 1244 tasks      | elapsed:   15.4s\n",
      "[Parallel(n_jobs=3)]: Done 1794 tasks      | elapsed:   22.1s\n",
      "[Parallel(n_jobs=3)]: Done 2444 tasks      | elapsed:   29.9s\n",
      "[Parallel(n_jobs=3)]: Done 3000 out of 3000 | elapsed:   36.7s finished\n"
     ]
    },
    {
     "data": {
      "text/plain": [
       "array([[21941,   388],\n",
       "       [ 1962,  1124]], dtype=int64)"
      ]
     },
     "execution_count": 58,
     "metadata": {},
     "output_type": "execute_result"
    }
   ],
   "source": [
    "confusion_matrix(Y_train, clf.predict(X_train))"
   ]
  },
  {
   "cell_type": "code",
   "execution_count": 59,
   "metadata": {},
   "outputs": [
    {
     "name": "stderr",
     "output_type": "stream",
     "text": [
      "[Parallel(n_jobs=3)]: Done  44 tasks      | elapsed:    0.4s\n",
      "[Parallel(n_jobs=3)]: Done 194 tasks      | elapsed:    2.1s\n",
      "[Parallel(n_jobs=3)]: Done 444 tasks      | elapsed:    5.0s\n",
      "[Parallel(n_jobs=3)]: Done 794 tasks      | elapsed:    8.9s\n",
      "[Parallel(n_jobs=3)]: Done 1244 tasks      | elapsed:   14.3s\n",
      "[Parallel(n_jobs=3)]: Done 1794 tasks      | elapsed:   21.0s\n",
      "[Parallel(n_jobs=3)]: Done 2444 tasks      | elapsed:   28.3s\n",
      "[Parallel(n_jobs=3)]: Done 3000 out of 3000 | elapsed:   34.6s finished\n",
      "[Parallel(n_jobs=3)]: Done  44 tasks      | elapsed:    0.4s\n",
      "[Parallel(n_jobs=3)]: Done 194 tasks      | elapsed:    2.1s\n",
      "[Parallel(n_jobs=3)]: Done 444 tasks      | elapsed:    4.9s\n",
      "[Parallel(n_jobs=3)]: Done 794 tasks      | elapsed:    8.7s\n",
      "[Parallel(n_jobs=3)]: Done 1244 tasks      | elapsed:   13.6s\n",
      "[Parallel(n_jobs=3)]: Done 1794 tasks      | elapsed:   19.7s\n",
      "[Parallel(n_jobs=3)]: Done 2444 tasks      | elapsed:   26.9s\n",
      "[Parallel(n_jobs=3)]: Done 3000 out of 3000 | elapsed:   32.9s finished\n",
      "[Parallel(n_jobs=3)]: Done  44 tasks      | elapsed:    0.5s\n",
      "[Parallel(n_jobs=3)]: Done 194 tasks      | elapsed:    2.1s\n",
      "[Parallel(n_jobs=3)]: Done 444 tasks      | elapsed:    4.8s\n",
      "[Parallel(n_jobs=3)]: Done 794 tasks      | elapsed:    8.7s\n",
      "[Parallel(n_jobs=3)]: Done 1244 tasks      | elapsed:   13.6s\n",
      "[Parallel(n_jobs=3)]: Done 1794 tasks      | elapsed:   19.7s\n",
      "[Parallel(n_jobs=3)]: Done 2444 tasks      | elapsed:   26.9s\n",
      "[Parallel(n_jobs=3)]: Done 3000 out of 3000 | elapsed:   33.0s finished\n"
     ]
    },
    {
     "data": {
      "text/plain": [
       "array([[9355,  215],\n",
       "       [ 871,  452]], dtype=int64)"
      ]
     },
     "execution_count": 59,
     "metadata": {},
     "output_type": "execute_result"
    }
   ],
   "source": [
    "confusion_matrix(Y_test, clf.predict(X_test))"
   ]
  },
  {
   "cell_type": "code",
   "execution_count": null,
   "metadata": {},
   "outputs": [],
   "source": []
  },
  {
   "cell_type": "code",
   "execution_count": 60,
   "metadata": {},
   "outputs": [],
   "source": [
    "from sklearn.metrics import classification_report"
   ]
  },
  {
   "cell_type": "code",
   "execution_count": 61,
   "metadata": {},
   "outputs": [
    {
     "name": "stderr",
     "output_type": "stream",
     "text": [
      "[Parallel(n_jobs=3)]: Done  44 tasks      | elapsed:    0.5s\n",
      "[Parallel(n_jobs=3)]: Done 194 tasks      | elapsed:    2.5s\n",
      "[Parallel(n_jobs=3)]: Done 444 tasks      | elapsed:    5.8s\n",
      "[Parallel(n_jobs=3)]: Done 794 tasks      | elapsed:   10.4s\n",
      "[Parallel(n_jobs=3)]: Done 1244 tasks      | elapsed:   15.9s\n",
      "[Parallel(n_jobs=3)]: Done 1794 tasks      | elapsed:   22.7s\n",
      "[Parallel(n_jobs=3)]: Done 2444 tasks      | elapsed:   30.7s\n",
      "[Parallel(n_jobs=3)]: Done 3000 out of 3000 | elapsed:   37.4s finished\n",
      "[Parallel(n_jobs=3)]: Done  44 tasks      | elapsed:    0.5s\n",
      "[Parallel(n_jobs=3)]: Done 194 tasks      | elapsed:    2.4s\n",
      "[Parallel(n_jobs=3)]: Done 444 tasks      | elapsed:    5.5s\n",
      "[Parallel(n_jobs=3)]: Done 794 tasks      | elapsed:    9.9s\n",
      "[Parallel(n_jobs=3)]: Done 1244 tasks      | elapsed:   15.8s\n",
      "[Parallel(n_jobs=3)]: Done 1794 tasks      | elapsed:   22.5s\n",
      "[Parallel(n_jobs=3)]: Done 2444 tasks      | elapsed:   30.3s\n",
      "[Parallel(n_jobs=3)]: Done 3000 out of 3000 | elapsed:   37.1s finished\n",
      "[Parallel(n_jobs=3)]: Done  44 tasks      | elapsed:    0.5s\n",
      "[Parallel(n_jobs=3)]: Done 194 tasks      | elapsed:    2.4s\n",
      "[Parallel(n_jobs=3)]: Done 444 tasks      | elapsed:    5.6s\n",
      "[Parallel(n_jobs=3)]: Done 794 tasks      | elapsed:   10.0s\n",
      "[Parallel(n_jobs=3)]: Done 1244 tasks      | elapsed:   15.4s\n",
      "[Parallel(n_jobs=3)]: Done 1794 tasks      | elapsed:   22.1s\n",
      "[Parallel(n_jobs=3)]: Done 2444 tasks      | elapsed:   29.9s\n",
      "[Parallel(n_jobs=3)]: Done 3000 out of 3000 | elapsed:   36.4s finished\n"
     ]
    },
    {
     "name": "stdout",
     "output_type": "stream",
     "text": [
      "             precision    recall  f1-score   support\n",
      "\n",
      "        0.0       0.92      0.98      0.95     22329\n",
      "        1.0       0.74      0.36      0.49      3086\n",
      "\n",
      "avg / total       0.90      0.91      0.89     25415\n",
      "\n"
     ]
    }
   ],
   "source": [
    "print(classification_report(Y_train, clf.predict(X_train)))"
   ]
  },
  {
   "cell_type": "code",
   "execution_count": 62,
   "metadata": {},
   "outputs": [
    {
     "name": "stderr",
     "output_type": "stream",
     "text": [
      "[Parallel(n_jobs=3)]: Done  44 tasks      | elapsed:    0.5s\n",
      "[Parallel(n_jobs=3)]: Done 194 tasks      | elapsed:    2.4s\n",
      "[Parallel(n_jobs=3)]: Done 444 tasks      | elapsed:    5.8s\n",
      "[Parallel(n_jobs=3)]: Done 794 tasks      | elapsed:   10.3s\n",
      "[Parallel(n_jobs=3)]: Done 1244 tasks      | elapsed:   16.1s\n",
      "[Parallel(n_jobs=3)]: Done 1794 tasks      | elapsed:   22.9s\n",
      "[Parallel(n_jobs=3)]: Done 2444 tasks      | elapsed:   30.9s\n",
      "[Parallel(n_jobs=3)]: Done 3000 out of 3000 | elapsed:   37.9s finished\n",
      "[Parallel(n_jobs=3)]: Done  44 tasks      | elapsed:    0.5s\n",
      "[Parallel(n_jobs=3)]: Done 194 tasks      | elapsed:    2.3s\n",
      "[Parallel(n_jobs=3)]: Done 444 tasks      | elapsed:    5.4s\n",
      "[Parallel(n_jobs=3)]: Done 794 tasks      | elapsed:    9.7s\n",
      "[Parallel(n_jobs=3)]: Done 1244 tasks      | elapsed:   15.2s\n",
      "[Parallel(n_jobs=3)]: Done 1794 tasks      | elapsed:   22.5s\n",
      "[Parallel(n_jobs=3)]: Done 2444 tasks      | elapsed:   30.7s\n",
      "[Parallel(n_jobs=3)]: Done 3000 out of 3000 | elapsed:   37.4s finished\n",
      "[Parallel(n_jobs=3)]: Done  44 tasks      | elapsed:    0.5s\n",
      "[Parallel(n_jobs=3)]: Done 194 tasks      | elapsed:    2.3s\n",
      "[Parallel(n_jobs=3)]: Done 444 tasks      | elapsed:    5.2s\n",
      "[Parallel(n_jobs=3)]: Done 794 tasks      | elapsed:    9.4s\n",
      "[Parallel(n_jobs=3)]: Done 1244 tasks      | elapsed:   14.8s\n",
      "[Parallel(n_jobs=3)]: Done 1794 tasks      | elapsed:   21.5s\n",
      "[Parallel(n_jobs=3)]: Done 2444 tasks      | elapsed:   29.8s\n",
      "[Parallel(n_jobs=3)]: Done 3000 out of 3000 | elapsed:   37.6s finished\n"
     ]
    },
    {
     "name": "stdout",
     "output_type": "stream",
     "text": [
      "             precision    recall  f1-score   support\n",
      "\n",
      "        0.0       0.91      0.98      0.95      9570\n",
      "        1.0       0.68      0.34      0.45      1323\n",
      "\n",
      "avg / total       0.89      0.90      0.89     10893\n",
      "\n"
     ]
    }
   ],
   "source": [
    "print(classification_report(Y_test, clf.predict(X_test)))"
   ]
  },
  {
   "cell_type": "code",
   "execution_count": null,
   "metadata": {},
   "outputs": [],
   "source": []
  },
  {
   "cell_type": "code",
   "execution_count": 63,
   "metadata": {},
   "outputs": [],
   "source": [
    "from sklearn.metrics import roc_auc_score"
   ]
  },
  {
   "cell_type": "code",
   "execution_count": 64,
   "metadata": {},
   "outputs": [
    {
     "name": "stderr",
     "output_type": "stream",
     "text": [
      "[Parallel(n_jobs=3)]: Done  44 tasks      | elapsed:    0.4s\n",
      "[Parallel(n_jobs=3)]: Done 194 tasks      | elapsed:    2.2s\n",
      "[Parallel(n_jobs=3)]: Done 444 tasks      | elapsed:    5.1s\n",
      "[Parallel(n_jobs=3)]: Done 794 tasks      | elapsed:    9.1s\n",
      "[Parallel(n_jobs=3)]: Done 1244 tasks      | elapsed:   14.3s\n",
      "[Parallel(n_jobs=3)]: Done 1794 tasks      | elapsed:   20.8s\n",
      "[Parallel(n_jobs=3)]: Done 2444 tasks      | elapsed:   28.3s\n",
      "[Parallel(n_jobs=3)]: Done 3000 out of 3000 | elapsed:   34.8s finished\n",
      "[Parallel(n_jobs=3)]: Done  44 tasks      | elapsed:    0.4s\n",
      "[Parallel(n_jobs=3)]: Done 194 tasks      | elapsed:    2.1s\n",
      "[Parallel(n_jobs=3)]: Done 444 tasks      | elapsed:    5.0s\n",
      "[Parallel(n_jobs=3)]: Done 794 tasks      | elapsed:    9.0s\n",
      "[Parallel(n_jobs=3)]: Done 1244 tasks      | elapsed:   14.1s\n",
      "[Parallel(n_jobs=3)]: Done 1794 tasks      | elapsed:   20.4s\n",
      "[Parallel(n_jobs=3)]: Done 2444 tasks      | elapsed:   27.7s\n",
      "[Parallel(n_jobs=3)]: Done 3000 out of 3000 | elapsed:   34.1s finished\n",
      "[Parallel(n_jobs=3)]: Done  44 tasks      | elapsed:    0.4s\n",
      "[Parallel(n_jobs=3)]: Done 194 tasks      | elapsed:    2.1s\n",
      "[Parallel(n_jobs=3)]: Done 444 tasks      | elapsed:    4.9s\n",
      "[Parallel(n_jobs=3)]: Done 794 tasks      | elapsed:    9.0s\n",
      "[Parallel(n_jobs=3)]: Done 1244 tasks      | elapsed:   14.0s\n",
      "[Parallel(n_jobs=3)]: Done 1794 tasks      | elapsed:   20.3s\n",
      "[Parallel(n_jobs=3)]: Done 2444 tasks      | elapsed:   27.6s\n",
      "[Parallel(n_jobs=3)]: Done 3000 out of 3000 | elapsed:   33.9s finished\n"
     ]
    },
    {
     "data": {
      "text/plain": [
       "0.8985183992278089"
      ]
     },
     "execution_count": 64,
     "metadata": {},
     "output_type": "execute_result"
    }
   ],
   "source": [
    "roc_auc_score(Y_train, clf.predict_proba(X_train)[:,1],average = 'micro')"
   ]
  },
  {
   "cell_type": "code",
   "execution_count": 65,
   "metadata": {},
   "outputs": [
    {
     "name": "stderr",
     "output_type": "stream",
     "text": [
      "[Parallel(n_jobs=3)]: Done  44 tasks      | elapsed:    0.6s\n",
      "[Parallel(n_jobs=3)]: Done 194 tasks      | elapsed:    2.7s\n",
      "[Parallel(n_jobs=3)]: Done 444 tasks      | elapsed:    6.2s\n",
      "[Parallel(n_jobs=3)]: Done 794 tasks      | elapsed:   11.3s\n",
      "[Parallel(n_jobs=3)]: Done 1244 tasks      | elapsed:   17.5s\n",
      "[Parallel(n_jobs=3)]: Done 1794 tasks      | elapsed:   25.0s\n",
      "[Parallel(n_jobs=3)]: Done 2444 tasks      | elapsed:   32.4s\n",
      "[Parallel(n_jobs=3)]: Done 3000 out of 3000 | elapsed:   38.1s finished\n",
      "[Parallel(n_jobs=3)]: Done  44 tasks      | elapsed:    0.4s\n",
      "[Parallel(n_jobs=3)]: Done 194 tasks      | elapsed:    1.9s\n",
      "[Parallel(n_jobs=3)]: Done 444 tasks      | elapsed:    5.5s\n",
      "[Parallel(n_jobs=3)]: Done 794 tasks      | elapsed:   10.4s\n",
      "[Parallel(n_jobs=3)]: Done 1244 tasks      | elapsed:   16.7s\n",
      "[Parallel(n_jobs=3)]: Done 1794 tasks      | elapsed:   23.4s\n",
      "[Parallel(n_jobs=3)]: Done 2444 tasks      | elapsed:   30.1s\n",
      "[Parallel(n_jobs=3)]: Done 3000 out of 3000 | elapsed:   37.0s finished\n",
      "[Parallel(n_jobs=3)]: Done  44 tasks      | elapsed:    0.6s\n",
      "[Parallel(n_jobs=3)]: Done 194 tasks      | elapsed:    2.7s\n",
      "[Parallel(n_jobs=3)]: Done 444 tasks      | elapsed:    6.2s\n",
      "[Parallel(n_jobs=3)]: Done 794 tasks      | elapsed:   11.1s\n",
      "[Parallel(n_jobs=3)]: Done 1244 tasks      | elapsed:   16.4s\n",
      "[Parallel(n_jobs=3)]: Done 1794 tasks      | elapsed:   22.0s\n",
      "[Parallel(n_jobs=3)]: Done 2444 tasks      | elapsed:   29.5s\n",
      "[Parallel(n_jobs=3)]: Done 3000 out of 3000 | elapsed:   37.7s finished\n"
     ]
    },
    {
     "data": {
      "text/plain": [
       "0.8457183453899382"
      ]
     },
     "execution_count": 65,
     "metadata": {},
     "output_type": "execute_result"
    }
   ],
   "source": [
    "roc_auc_score(Y_test, clf.predict_proba(X_test)[:,1],average = 'micro')"
   ]
  },
  {
   "cell_type": "code",
   "execution_count": null,
   "metadata": {},
   "outputs": [],
   "source": []
  },
  {
   "cell_type": "code",
   "execution_count": null,
   "metadata": {},
   "outputs": [],
   "source": []
  }
 ],
 "metadata": {
  "kernelspec": {
   "display_name": "Python 3",
   "language": "python",
   "name": "python3"
  },
  "language_info": {
   "codemirror_mode": {
    "name": "ipython",
    "version": 3
   },
   "file_extension": ".py",
   "mimetype": "text/x-python",
   "name": "python",
   "nbconvert_exporter": "python",
   "pygments_lexer": "ipython3",
   "version": "3.6.4"
  }
 },
 "nbformat": 4,
 "nbformat_minor": 2
}
